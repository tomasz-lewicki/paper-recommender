{
 "cells": [
  {
   "cell_type": "code",
   "execution_count": 1,
   "metadata": {},
   "outputs": [],
   "source": [
    "import pandas as pd\n",
    "import numpy as np\n",
    "import json\n",
    "import pickle\n",
    "import sklearn.metrics\n",
    "from sklearn import preprocessing\n",
    "from scipy.sparse import coo_matrix"
   ]
  },
  {
   "cell_type": "code",
   "execution_count": 2,
   "metadata": {},
   "outputs": [],
   "source": [
    "with open(\"utility_matrix.pkl\", \"rb\") as f:\n",
    "    utility = pickle.load(f)"
   ]
  },
  {
   "cell_type": "code",
   "execution_count": 3,
   "metadata": {},
   "outputs": [],
   "source": [
    "U_csc = utility.tocsc()"
   ]
  },
  {
   "cell_type": "code",
   "execution_count": 4,
   "metadata": {},
   "outputs": [],
   "source": [
    "U_csr = utility.tocsr()"
   ]
  },
  {
   "cell_type": "markdown",
   "metadata": {},
   "source": [
    "# Calculate similarities"
   ]
  },
  {
   "cell_type": "code",
   "execution_count": 7,
   "metadata": {},
   "outputs": [
    {
     "data": {
      "text/plain": [
       "(3087508,)"
      ]
     },
     "execution_count": 7,
     "metadata": {},
     "output_type": "execute_result"
    }
   ],
   "source": [
    "our = U_csr.getrow(0)\n",
    "sims = sklearn.metrics.pairwise.cosine_similarity(our,U_csr)\n",
    "sims = np.squeeze(sims)\n",
    "sims.shape"
   ]
  },
  {
   "cell_type": "markdown",
   "metadata": {},
   "source": [
    "# Get the user's neighborhood"
   ]
  },
  {
   "cell_type": "code",
   "execution_count": 8,
   "metadata": {},
   "outputs": [
    {
     "data": {
      "text/plain": [
       "array([1.        , 1.        , 1.        , 1.        , 0.70710678,\n",
       "       0.5       , 0.5       , 0.4472136 , 0.4472136 , 0.4472136 ,\n",
       "       0.40824829, 0.40824829, 0.37796447, 0.37796447, 0.37796447,\n",
       "       0.35355339, 0.35355339, 0.35355339, 0.35355339, 0.33333333,\n",
       "       0.33333333, 0.31622777, 0.31622777, 0.31622777, 0.31622777,\n",
       "       0.31622777, 0.30151134, 0.30151134, 0.30151134, 0.30151134])"
      ]
     },
     "execution_count": 8,
     "metadata": {},
     "output_type": "execute_result"
    }
   ],
   "source": [
    "asort = sims.argsort()\n",
    "k_most_similar_idx = asort[::-1][:30]\n",
    "k_sims = sims[k_most_similar_idx]\n",
    "k_sims"
   ]
  },
  {
   "cell_type": "code",
   "execution_count": 9,
   "metadata": {},
   "outputs": [],
   "source": [
    "ratings_k_similar = np.squeeze(np.array([U_csr.getrow(r).todense() for r in k_most_similar_idx]))"
   ]
  },
  {
   "cell_type": "code",
   "execution_count": 10,
   "metadata": {},
   "outputs": [
    {
     "data": {
      "text/plain": [
       "(30, 3272179)"
      ]
     },
     "execution_count": 10,
     "metadata": {},
     "output_type": "execute_result"
    }
   ],
   "source": [
    "ratings_k_similar_weighted = (k_sims[:,np.newaxis] * ratings_k_similar)\n",
    "ratings_k_similar_weighted.shape"
   ]
  },
  {
   "cell_type": "code",
   "execution_count": 11,
   "metadata": {},
   "outputs": [],
   "source": [
    "predicted_ratings = ratings_k_similar_weighted.mean(axis=0)"
   ]
  },
  {
   "cell_type": "code",
   "execution_count": 12,
   "metadata": {},
   "outputs": [],
   "source": [
    "b = 10\n",
    "b_best_items_idx = np.argsort(predicted_ratings)[::-1][:b]"
   ]
  },
  {
   "cell_type": "code",
   "execution_count": 13,
   "metadata": {},
   "outputs": [
    {
     "data": {
      "text/plain": [
       "array([285355, 159175,   1180, 172890, 268876, 541791, 478913,  69081,\n",
       "       588249, 575384])"
      ]
     },
     "execution_count": 13,
     "metadata": {},
     "output_type": "execute_result"
    }
   ],
   "source": [
    "# These are the recommendations!\n",
    "b_best_items_idx"
   ]
  },
  {
   "cell_type": "code",
   "execution_count": 32,
   "metadata": {},
   "outputs": [],
   "source": [
    "with open(\"items_encoder.pkl\", \"rb\") as f:\n",
    "    items_encoder = pickle.load(f)\n",
    "    \n",
    "with open(\"users_encoder.pkl\", \"rb\") as f:\n",
    "    users_encoder = pickle.load(f)"
   ]
  },
  {
   "cell_type": "code",
   "execution_count": 37,
   "metadata": {},
   "outputs": [
    {
     "data": {
      "text/plain": [
       "array([1528791703,  593890627,    1707499, 1021226038, 1520821213,\n",
       "       1896976133, 1730741578,  102370257, 1965355328, 1963698925])"
      ]
     },
     "execution_count": 37,
     "metadata": {},
     "output_type": "execute_result"
    }
   ],
   "source": [
    "rec_paper_ids = items_encoder.inverse_transform(b_best_items_idx)\n",
    "rec_paper_ids"
   ]
  },
  {
   "cell_type": "code",
   "execution_count": 34,
   "metadata": {},
   "outputs": [],
   "source": [
    "with open(\"id2title.pkl\", \"rb\") as f:\n",
    "    id2title = pickle.load(f)\n",
    "    \n",
    "with open(\"id2name.pkl\", \"rb\") as f:\n",
    "    id2name = pickle.load(f)\n",
    "    \n",
    "with open(\"name2id.pkl\", \"rb\") as f:\n",
    "    name2id = pickle.load(f)\n",
    "    \n",
    "with open(\"title2id.pkl\", \"rb\") as f:\n",
    "    title2id = pickle.load(f)"
   ]
  },
  {
   "cell_type": "code",
   "execution_count": 31,
   "metadata": {},
   "outputs": [
    {
     "data": {
      "text/plain": [
       "True"
      ]
     },
     "execution_count": 31,
     "metadata": {},
     "output_type": "execute_result"
    }
   ],
   "source": [
    "\"Deep Residual Learning for Image Recognition\" in id2title.values()"
   ]
  },
  {
   "cell_type": "code",
   "execution_count": 38,
   "metadata": {},
   "outputs": [
    {
     "name": "stdout",
     "output_type": "stream",
     "text": [
      "Querying a polynomial object-relational constraint database in model-based diagnosis\n",
      "A set of critical heuristics for value sensitive designers and users of persuasive systems.\n",
      "A Novel Approach for Adaptive EEG Artefact Rejection and EOG Gaze Estimation\n",
      "Narrative Cognition in Interactive Systems: Suspense-Surprise and the P300 ERP Component\n",
      "ZHARP: three-dimensional motion tracking from a single image plane\n",
      "Exploiting compression and approximation paradigms for effective and efficient online analytical processing over sensor network readings in data grid environments\n",
      "Be Brief, And They Shall Learn: Generating Concise Language Feedback for a Computer Tutor\n",
      "A genetic algorithm vs. local search methods for solving the orienteering problem in large networks\n",
      "Revisiting clientelism: A network analysis of problem-solving networks in Argentina\n",
      "Computers in Third World schools: the example of China\n"
     ]
    }
   ],
   "source": [
    "for i in rec_paper_ids:\n",
    "    print(id2title[i])"
   ]
  }
 ],
 "metadata": {
  "kernelspec": {
   "display_name": "Python 3",
   "language": "python",
   "name": "python3"
  },
  "language_info": {
   "codemirror_mode": {
    "name": "ipython",
    "version": 3
   },
   "file_extension": ".py",
   "mimetype": "text/x-python",
   "name": "python",
   "nbconvert_exporter": "python",
   "pygments_lexer": "ipython3",
   "version": "3.8.5"
  }
 },
 "nbformat": 4,
 "nbformat_minor": 4
}
