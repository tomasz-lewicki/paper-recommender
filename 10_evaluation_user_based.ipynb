{
 "cells": [
  {
   "cell_type": "markdown",
   "metadata": {},
   "source": [
    "# Evaluation of User based CF"
   ]
  },
  {
   "cell_type": "code",
   "execution_count": 1,
   "metadata": {},
   "outputs": [],
   "source": [
    "import numpy as np\n",
    "import scipy\n",
    "import pickle\n",
    "import random\n",
    "import sklearn.metrics"
   ]
  },
  {
   "cell_type": "code",
   "execution_count": 2,
   "metadata": {},
   "outputs": [],
   "source": [
    "SEED = 256\n",
    "random.seed(SEED)"
   ]
  },
  {
   "cell_type": "code",
   "execution_count": 3,
   "metadata": {},
   "outputs": [],
   "source": [
    "with open(\"utility_matrix.pkl\", \"rb\") as f:\n",
    "    utility = pickle.load(f)\n",
    "    \n",
    "U_csc = utility.tocsc()\n",
    "U_csr = utility.tocsr()"
   ]
  },
  {
   "cell_type": "code",
   "execution_count": 2,
   "metadata": {},
   "outputs": [],
   "source": [
    "with open(\"eval_data.pkl\", \"rb\") as f:\n",
    "    eval_data = pickle.load(f)"
   ]
  },
  {
   "cell_type": "code",
   "execution_count": 10,
   "metadata": {},
   "outputs": [],
   "source": [
    "s = 0\n",
    "for k,v in eval_data.items():\n",
    "    s += len(v['false_idx']) + len(v['true_idx'])"
   ]
  },
  {
   "cell_type": "code",
   "execution_count": 11,
   "metadata": {},
   "outputs": [
    {
     "data": {
      "text/plain": [
       "563636"
      ]
     },
     "execution_count": 11,
     "metadata": {},
     "output_type": "execute_result"
    }
   ],
   "source": [
    "s"
   ]
  },
  {
   "cell_type": "code",
   "execution_count": 5,
   "metadata": {},
   "outputs": [],
   "source": [
    "def user_cf(user_vec, user_neighborhood_k=30):\n",
    "    \n",
    "    # calculate similarities with all the other users\n",
    "    sims = sklearn.metrics.pairwise.cosine_similarity(user_vec, U_csr)\n",
    "    sims = np.squeeze(sims)\n",
    "\n",
    "    # get users most similar to the queried user\n",
    "    asort = sims.argsort()\n",
    "    k = user_neighborhood_k\n",
    "    k_most_similar_idx = asort[::-1][1:k+1]\n",
    "    k_sims = sims[k_most_similar_idx]\n",
    "\n",
    "    # calculate missing utility matrix entries based on the neighborhood\n",
    "    ratings_k_similar = np.squeeze(np.array([U_csr.getrow(r).todense() for r in k_most_similar_idx]))\n",
    "    ratings_k_similar_weighted = (k_sims[:,np.newaxis] * ratings_k_similar)\n",
    "    predicted_ratings = ratings_k_similar_weighted.mean(axis=0)\n",
    "    \n",
    "    return predicted_ratings"
   ]
  },
  {
   "cell_type": "code",
   "execution_count": 6,
   "metadata": {},
   "outputs": [],
   "source": [
    "all_negative_scores = []\n",
    "all_positive_scores = []\n",
    "\n",
    "for i, (row_idx, v) in enumerate(eval_data.items()):\n",
    "    \n",
    "    false_idx = v['false_idx']\n",
    "    true_idx = v['true_idx']\n",
    "    \n",
    "    uv =  U_csr[row_idx,:]\n",
    "#     truth = uv.copy()\n",
    "    true_idx_val = np.random.choice(true_idx, int(len(true_idx)/2))\n",
    "    false_idx_val = np.random.choice(false_idx, int(len(false_idx)/2)) \n",
    "    uv[:,true_idx_val] = False\n",
    "\n",
    "    scores = user_cf(uv)\n",
    "    \n",
    "    all_negative_scores += list(scores[false_idx_val])\n",
    "    all_positive_scores += list(scores[true_idx_val])"
   ]
  },
  {
   "cell_type": "code",
   "execution_count": 7,
   "metadata": {},
   "outputs": [],
   "source": [
    "THR = 0.5\n",
    "pred = np.array([all_positive_scores, all_negative_scores]) > THR\n",
    "pred = np.ravel(pred)\n",
    "\n",
    "truth = np.array([np.ones_like(all_positive_scores), np.zeros_like(all_negative_scores)])\n",
    "truth = np.ravel(truth)"
   ]
  },
  {
   "cell_type": "code",
   "execution_count": 8,
   "metadata": {},
   "outputs": [],
   "source": [
    "result = sklearn.metrics.classification_report(pred, truth, output_dict=True)"
   ]
  },
  {
   "cell_type": "markdown",
   "metadata": {},
   "source": [
    "# Results for negative class"
   ]
  },
  {
   "cell_type": "code",
   "execution_count": 9,
   "metadata": {},
   "outputs": [
    {
     "name": "stdout",
     "output_type": "stream",
     "text": [
      "Precision: 1.0\n",
      "Recall: 0.7224011713030747\n"
     ]
    }
   ],
   "source": [
    "print(f\"Precision: {result['False']['precision']}\")\n",
    "print(f\"Recall: {result['False']['recall']}\")"
   ]
  },
  {
   "cell_type": "markdown",
   "metadata": {},
   "source": [
    "# Results for positive class"
   ]
  },
  {
   "cell_type": "code",
   "execution_count": 12,
   "metadata": {},
   "outputs": [
    {
     "name": "stdout",
     "output_type": "stream",
     "text": [
      "Precision: 0.6157276043777867\n",
      "Recall: 1.0\n"
     ]
    }
   ],
   "source": [
    "print(f\"Precision: {result['True']['precision']}\")\n",
    "print(f\"Recall: {result['True']['recall']}\")"
   ]
  },
  {
   "cell_type": "code",
   "execution_count": 13,
   "metadata": {},
   "outputs": [
    {
     "data": {
      "text/plain": [
       "0.8078638021888934"
      ]
     },
     "execution_count": 13,
     "metadata": {},
     "output_type": "execute_result"
    }
   ],
   "source": [
    "result['accuracy']"
   ]
  }
 ],
 "metadata": {
  "kernelspec": {
   "display_name": "Python 3",
   "language": "python",
   "name": "python3"
  },
  "language_info": {
   "codemirror_mode": {
    "name": "ipython",
    "version": 3
   },
   "file_extension": ".py",
   "mimetype": "text/x-python",
   "name": "python",
   "nbconvert_exporter": "python",
   "pygments_lexer": "ipython3",
   "version": "3.8.5"
  }
 },
 "nbformat": 4,
 "nbformat_minor": 4
}
