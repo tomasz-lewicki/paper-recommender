{
 "cells": [
  {
   "cell_type": "code",
   "execution_count": 1,
   "metadata": {},
   "outputs": [],
   "source": [
    "import pandas as pd\n",
    "import numpy as np\n",
    "import json\n",
    "import pickle\n",
    "import sklearn.metrics\n",
    "from sklearn import preprocessing\n",
    "from scipy.sparse import coo_matrix"
   ]
  },
  {
   "cell_type": "code",
   "execution_count": 2,
   "metadata": {},
   "outputs": [],
   "source": [
    "with open(\"utility_matrix.pkl\", \"rb\") as f:\n",
    "    utility = pickle.load(f)"
   ]
  },
  {
   "cell_type": "code",
   "execution_count": 3,
   "metadata": {},
   "outputs": [],
   "source": [
    "U_csc = utility.tocsc()"
   ]
  },
  {
   "cell_type": "code",
   "execution_count": 4,
   "metadata": {},
   "outputs": [],
   "source": [
    "U_csr = utility.tocsr()"
   ]
  },
  {
   "cell_type": "code",
   "execution_count": 5,
   "metadata": {},
   "outputs": [],
   "source": [
    "# Get items rated by \"our\" user\n",
    "our_user = U_csr.getrow(4)\n",
    "rows, cited_item_idxs = our_user.nonzero()"
   ]
  },
  {
   "cell_type": "code",
   "execution_count": 6,
   "metadata": {},
   "outputs": [],
   "source": [
    "# for each of these items we need to calculate similar items\n",
    "pred_rtgs = []\n",
    "\n",
    "k = 30\n",
    "\n",
    "for idx in cited_item_idxs:\n",
    "    curr_item = U_csc.getcol(idx).T\n",
    "    sims = sklearn.metrics.pairwise.cosine_similarity(curr_item, U_csc.T)\n",
    "    sims = np.squeeze(sims)\n",
    "    asort = sims.argsort()\n",
    "    k_most_similar_idx = asort[::-1][1:k+1]\n",
    "    k_sims = sims[k_most_similar_idx]\n",
    "    cols_k_similar = np.squeeze(np.array([U_csr.getcol(r).todense() for r in k_most_similar_idx]))\n",
    "    pred_from_one_item = cols_k_similar.mean(axis=0)\n",
    "    pred_rtgs.append(pred_from_one_item)\n",
    "    \n",
    "predicted_ratings = np.array(pred_rtgs).mean(axis=0)"
   ]
  },
  {
   "cell_type": "code",
   "execution_count": 8,
   "metadata": {},
   "outputs": [
    {
     "data": {
      "text/plain": [
       "1.613761000781209e-05"
      ]
     },
     "execution_count": 8,
     "metadata": {},
     "output_type": "execute_result"
    }
   ],
   "source": [
    "predicted_ratings.mean()"
   ]
  },
  {
   "cell_type": "code",
   "execution_count": 8,
   "metadata": {},
   "outputs": [],
   "source": [
    "asort = predicted_ratings.argsort()\n",
    "asort = asort[::-1] # to descending order\n",
    "\n",
    "b = 5\n",
    "predicted_idxs = asort[1:b+1]"
   ]
  },
  {
   "cell_type": "code",
   "execution_count": 10,
   "metadata": {},
   "outputs": [],
   "source": [
    "with open(\"items_encoder.pkl\", \"rb\") as f:\n",
    "    items_encoder = pickle.load(f)\n",
    "    \n",
    "with open(\"users_encoder.pkl\", \"rb\") as f:\n",
    "    users_encoder = pickle.load(f)"
   ]
  },
  {
   "cell_type": "code",
   "execution_count": 13,
   "metadata": {},
   "outputs": [],
   "source": [
    "with open(\"id2title.pkl\", \"rb\") as f:\n",
    "    id2title = pickle.load(f)\n",
    "    \n",
    "with open(\"id2name.pkl\", \"rb\") as f:\n",
    "    id2name = pickle.load(f)\n",
    "    \n",
    "with open(\"name2id.pkl\", \"rb\") as f:\n",
    "    name2id = pickle.load(f)\n",
    "    \n",
    "with open(\"title2id.pkl\", \"rb\") as f:\n",
    "    title2id = pickle.load(f)"
   ]
  },
  {
   "cell_type": "code",
   "execution_count": 11,
   "metadata": {},
   "outputs": [],
   "source": [
    "predicted_idxs\n",
    "predicted_ids = items_encoder.inverse_transform(predicted_idxs)"
   ]
  },
  {
   "cell_type": "code",
   "execution_count": 12,
   "metadata": {},
   "outputs": [
    {
     "data": {
      "text/plain": [
       "array([2011710469, 1972620114, 1530404001, 2063604850, 2160460946])"
      ]
     },
     "execution_count": 12,
     "metadata": {},
     "output_type": "execute_result"
    }
   ],
   "source": [
    "predicted_ids"
   ]
  },
  {
   "cell_type": "code",
   "execution_count": 14,
   "metadata": {},
   "outputs": [
    {
     "name": "stdout",
     "output_type": "stream",
     "text": [
      "Multi-symplectic methods for generalized Schrödinger equations\n",
      "Backward error analysis for multi-symplectic integration methods\n",
      "Simulating Hamiltonian Dynamics\n",
      "On Symplectic and Multisymplectic Schemes for the KdV Equation\n",
      "Linear PDEs and Numerical Methods That Preserve a Multisymplectic Conservation Law\n"
     ]
    }
   ],
   "source": [
    "for i in predicted_ids:\n",
    "    print(id2title[i])"
   ]
  }
 ],
 "metadata": {
  "kernelspec": {
   "display_name": "Python 3",
   "language": "python",
   "name": "python3"
  },
  "language_info": {
   "codemirror_mode": {
    "name": "ipython",
    "version": 3
   },
   "file_extension": ".py",
   "mimetype": "text/x-python",
   "name": "python",
   "nbconvert_exporter": "python",
   "pygments_lexer": "ipython3",
   "version": "3.8.5"
  }
 },
 "nbformat": 4,
 "nbformat_minor": 4
}
