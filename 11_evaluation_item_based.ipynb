{
 "cells": [
  {
   "cell_type": "markdown",
   "metadata": {},
   "source": [
    "# Evaluation of item based CF"
   ]
  },
  {
   "cell_type": "code",
   "execution_count": 2,
   "metadata": {},
   "outputs": [],
   "source": [
    "import numpy as np\n",
    "import scipy\n",
    "import pickle\n",
    "import random\n",
    "import sklearn.metrics"
   ]
  },
  {
   "cell_type": "code",
   "execution_count": 3,
   "metadata": {},
   "outputs": [],
   "source": [
    "SEED = 256\n",
    "random.seed(SEED)"
   ]
  },
  {
   "cell_type": "code",
   "execution_count": 4,
   "metadata": {},
   "outputs": [],
   "source": [
    "with open(\"utility_matrix.pkl\", \"rb\") as f:\n",
    "    utility = pickle.load(f)\n",
    "    \n",
    "U_csc = utility.tocsc()\n",
    "U_csr = utility.tocsr()"
   ]
  },
  {
   "cell_type": "code",
   "execution_count": 5,
   "metadata": {},
   "outputs": [],
   "source": [
    "with open(\"eval_data.pkl\", \"rb\") as f:\n",
    "    eval_data = pickle.load(f)"
   ]
  },
  {
   "cell_type": "code",
   "execution_count": 53,
   "metadata": {},
   "outputs": [],
   "source": [
    "def item_cf(user_vec, item_neighborhood_k=30):\n",
    "    \n",
    "    _, cited_item_idxs = user_vec.nonzero()\n",
    "    cited_item_idxs = cited_item_idxs\n",
    "    pred_rtgs = []\n",
    "    \n",
    "    for idx in cited_item_idxs:\n",
    "        curr_item = U_csr.getcol(idx).T\n",
    "\n",
    "        # calculate similarities\n",
    "        sims = sklearn.metrics.pairwise.cosine_similarity(curr_item, U_csc.T)\n",
    "        sims = np.squeeze(sims) \n",
    "\n",
    "        # get the most similar items\n",
    "        asort = sims.argsort()\n",
    "        asort = asort[::-1] # to descending order\n",
    "\n",
    "        # get the neighborhood\n",
    "        k = item_neighborhood_k\n",
    "        k_most_similar_idx = asort[1:k+1] # the highest-similarity idx will be the user herself, so we skip that\n",
    "        k_sims = sims[k_most_similar_idx]\n",
    "        cols_k_similar = np.squeeze(np.array([U_csr.getcol(r).todense() for r in k_most_similar_idx]))\n",
    "        pred_from_one_item = cols_k_similar.mean(axis=0)\n",
    "        pred_rtgs.append(pred_from_one_item)\n",
    "\n",
    "    predicted_ratings = np.array(pred_rtgs).mean(axis=0)\n",
    "    \n",
    "    return predicted_ratings"
   ]
  },
  {
   "cell_type": "code",
   "execution_count": 80,
   "metadata": {},
   "outputs": [],
   "source": [
    "all_negative_scores = []\n",
    "all_positive_scores = []\n",
    "\n",
    "for i, (row_idx, v) in enumerate(eval_data.items()):\n",
    "    \n",
    "    false_idx = v['false_idx']\n",
    "    true_idx = v['true_idx']\n",
    "    \n",
    "    uv =  U_csr[row_idx,:]\n",
    "    \n",
    "    true_idx_val = np.random.choice(true_idx, int(len(true_idx)/2))\n",
    "    false_idx_val = np.random.choice(false_idx, int(len(false_idx)/2)) \n",
    "    \n",
    "    uv[:,true_idx_val] = False\n",
    "\n",
    "    scores = item_cf(uv)\n",
    "    \n",
    "    all_negative_scores += list(scores[false_idx_val])\n",
    "    all_positive_scores += list(scores[true_idx_val])"
   ]
  },
  {
   "cell_type": "code",
   "execution_count": 81,
   "metadata": {},
   "outputs": [],
   "source": [
    "pred = np.array([all_positive_scores, all_negative_scores]) > THR\n",
    "pred = np.ravel(pred)\n",
    "\n",
    "truth = np.array([np.ones_like(all_positive_scores), np.zeros_like(all_negative_scores)])\n",
    "truth = np.ravel(truth)"
   ]
  },
  {
   "cell_type": "code",
   "execution_count": 82,
   "metadata": {},
   "outputs": [],
   "source": [
    "result = sklearn.metrics.classification_report(pred, truth, output_dict=True)"
   ]
  },
  {
   "cell_type": "markdown",
   "metadata": {},
   "source": [
    "# Results for negative class"
   ]
  },
  {
   "cell_type": "code",
   "execution_count": 83,
   "metadata": {},
   "outputs": [
    {
     "name": "stdout",
     "output_type": "stream",
     "text": [
      "Precision: 1.0\n"
     ]
    }
   ],
   "source": [
    "print(f\"Precision: {result['False']['precision']}\")"
   ]
  },
  {
   "cell_type": "markdown",
   "metadata": {},
   "source": [
    "# Results for positive class"
   ]
  },
  {
   "cell_type": "code",
   "execution_count": 84,
   "metadata": {},
   "outputs": [
    {
     "name": "stdout",
     "output_type": "stream",
     "text": [
      "Precision: 0.7764227642276422\n"
     ]
    }
   ],
   "source": [
    "print(f\"Precision: {result['True']['precision']}\")"
   ]
  },
  {
   "cell_type": "code",
   "execution_count": 85,
   "metadata": {},
   "outputs": [
    {
     "data": {
      "text/plain": [
       "0.8882113821138211"
      ]
     },
     "execution_count": 85,
     "metadata": {},
     "output_type": "execute_result"
    }
   ],
   "source": [
    "result['accuracy']"
   ]
  }
 ],
 "metadata": {
  "kernelspec": {
   "display_name": "Python 3",
   "language": "python",
   "name": "python3"
  },
  "language_info": {
   "codemirror_mode": {
    "name": "ipython",
    "version": 3
   },
   "file_extension": ".py",
   "mimetype": "text/x-python",
   "name": "python",
   "nbconvert_exporter": "python",
   "pygments_lexer": "ipython3",
   "version": "3.8.5"
  }
 },
 "nbformat": 4,
 "nbformat_minor": 4
}
