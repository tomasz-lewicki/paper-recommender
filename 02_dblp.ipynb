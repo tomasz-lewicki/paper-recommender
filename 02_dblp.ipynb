{
 "cells": [
  {
   "cell_type": "code",
   "execution_count": 1,
   "metadata": {},
   "outputs": [],
   "source": [
    "import pandas as pd\n",
    "import json"
   ]
  },
  {
   "cell_type": "code",
   "execution_count": 2,
   "metadata": {},
   "outputs": [],
   "source": [
    "def line_generator(fname='dblp.v12.json'):\n",
    "    with open(fname, 'r') as f:\n",
    "        f.readline() # toss the first line\n",
    "        for idx, line in enumerate(f):\n",
    "            if line[0] == ',':\n",
    "                yield line[1:]\n",
    "            else: yield line"
   ]
  },
  {
   "cell_type": "code",
   "execution_count": 3,
   "metadata": {},
   "outputs": [],
   "source": [
    "def make_dataframe(n=10000):\n",
    "    li = []\n",
    "    gen = line_generator()\n",
    "    for idx, line in enumerate(gen):\n",
    "        d = json.loads(line)\n",
    "        li.append(d)        \n",
    "        if idx >= n-1: break\n",
    "    \n",
    "    return pd.DataFrame(li)"
   ]
  },
  {
   "cell_type": "code",
   "execution_count": 5,
   "metadata": {},
   "outputs": [],
   "source": [
    "df = make_dataframe(10000)"
   ]
  },
  {
   "cell_type": "code",
   "execution_count": 11,
   "metadata": {},
   "outputs": [
    {
     "data": {
      "text/plain": [
       "0       [{'name': 'Makoto Satoh', 'org': 'Shinshu Univ...\n",
       "1          [{'name': 'Pranava K. Jha', 'id': 2718958994}]\n",
       "2       [{'name': 'G. Beale', 'org': 'Archaeological C...\n",
       "3       [{'name': 'Altaf Hossain', 'org': 'Department ...\n",
       "4       [{'name': 'Rafael Álvarez', 'id': 2125293936},...\n",
       "                              ...                        \n",
       "9995         [{'name': 'L. Klukovits', 'id': 2401857488}]\n",
       "9996    [{'name': 'Jeon Lee', 'org': 'Johns Hopkins Un...\n",
       "9997    [{'name': 'Raffaele Ciriello', 'id': 210840527...\n",
       "9998         [{'name': 'Adrian Freed', 'id': 2167947150}]\n",
       "9999    [{'name': 'Michael H. Miller', 'id': 2131484711}]\n",
       "Name: authors, Length: 10000, dtype: object"
      ]
     },
     "execution_count": 11,
     "metadata": {},
     "output_type": "execute_result"
    }
   ],
   "source": [
    "df.authors"
   ]
  },
  {
   "cell_type": "code",
   "execution_count": 15,
   "metadata": {},
   "outputs": [
    {
     "data": {
      "text/plain": [
       "0                                [2005687710, 2018037215]\n",
       "1                                                     NaN\n",
       "2       [1535888970, 1992876689, 1993710814, 203565334...\n",
       "3                    [1560724230, 1986968751, 2156909104]\n",
       "4                                                     NaN\n",
       "                              ...                        \n",
       "9995                                                  NaN\n",
       "9996                                                  NaN\n",
       "9997    [150360623, 150935798, 190727590, 199545714, 1...\n",
       "9998    [16295876, 421841737, 1545496177, 2016259913, ...\n",
       "9999                                                  NaN\n",
       "Name: references, Length: 10000, dtype: object"
      ]
     },
     "execution_count": 15,
     "metadata": {},
     "output_type": "execute_result"
    }
   ],
   "source": [
    "df.references"
   ]
  },
  {
   "cell_type": "code",
   "execution_count": 9,
   "metadata": {},
   "outputs": [
    {
     "data": {
      "text/html": [
       "<div>\n",
       "<style scoped>\n",
       "    .dataframe tbody tr th:only-of-type {\n",
       "        vertical-align: middle;\n",
       "    }\n",
       "\n",
       "    .dataframe tbody tr th {\n",
       "        vertical-align: top;\n",
       "    }\n",
       "\n",
       "    .dataframe thead th {\n",
       "        text-align: right;\n",
       "    }\n",
       "</style>\n",
       "<table border=\"1\" class=\"dataframe\">\n",
       "  <thead>\n",
       "    <tr style=\"text-align: right;\">\n",
       "      <th></th>\n",
       "      <th>n_citation</th>\n",
       "      <th>references</th>\n",
       "    </tr>\n",
       "  </thead>\n",
       "  <tbody>\n",
       "    <tr>\n",
       "      <th>0</th>\n",
       "      <td>1</td>\n",
       "      <td>[2005687710, 2018037215]</td>\n",
       "    </tr>\n",
       "    <tr>\n",
       "      <th>1</th>\n",
       "      <td>1</td>\n",
       "      <td>NaN</td>\n",
       "    </tr>\n",
       "    <tr>\n",
       "      <th>2</th>\n",
       "      <td>1</td>\n",
       "      <td>[1535888970, 1992876689, 1993710814, 203565334...</td>\n",
       "    </tr>\n",
       "    <tr>\n",
       "      <th>3</th>\n",
       "      <td>6</td>\n",
       "      <td>[1560724230, 1986968751, 2156909104]</td>\n",
       "    </tr>\n",
       "    <tr>\n",
       "      <th>4</th>\n",
       "      <td>0</td>\n",
       "      <td>NaN</td>\n",
       "    </tr>\n",
       "    <tr>\n",
       "      <th>...</th>\n",
       "      <td>...</td>\n",
       "      <td>...</td>\n",
       "    </tr>\n",
       "    <tr>\n",
       "      <th>9995</th>\n",
       "      <td>0</td>\n",
       "      <td>NaN</td>\n",
       "    </tr>\n",
       "    <tr>\n",
       "      <th>9996</th>\n",
       "      <td>2</td>\n",
       "      <td>NaN</td>\n",
       "    </tr>\n",
       "    <tr>\n",
       "      <th>9997</th>\n",
       "      <td>2</td>\n",
       "      <td>[150360623, 150935798, 190727590, 199545714, 1...</td>\n",
       "    </tr>\n",
       "    <tr>\n",
       "      <th>9998</th>\n",
       "      <td>8</td>\n",
       "      <td>[16295876, 421841737, 1545496177, 2016259913, ...</td>\n",
       "    </tr>\n",
       "    <tr>\n",
       "      <th>9999</th>\n",
       "      <td>0</td>\n",
       "      <td>NaN</td>\n",
       "    </tr>\n",
       "  </tbody>\n",
       "</table>\n",
       "<p>10000 rows × 2 columns</p>\n",
       "</div>"
      ],
      "text/plain": [
       "      n_citation                                         references\n",
       "0              1                           [2005687710, 2018037215]\n",
       "1              1                                                NaN\n",
       "2              1  [1535888970, 1992876689, 1993710814, 203565334...\n",
       "3              6               [1560724230, 1986968751, 2156909104]\n",
       "4              0                                                NaN\n",
       "...          ...                                                ...\n",
       "9995           0                                                NaN\n",
       "9996           2                                                NaN\n",
       "9997           2  [150360623, 150935798, 190727590, 199545714, 1...\n",
       "9998           8  [16295876, 421841737, 1545496177, 2016259913, ...\n",
       "9999           0                                                NaN\n",
       "\n",
       "[10000 rows x 2 columns]"
      ]
     },
     "execution_count": 9,
     "metadata": {},
     "output_type": "execute_result"
    }
   ],
   "source": [
    "df[['n_citation',\"references\"]]"
   ]
  },
  {
   "cell_type": "code",
   "execution_count": 10,
   "metadata": {},
   "outputs": [
    {
     "name": "stdout",
     "output_type": "stream",
     "text": [
      "    4894083   223053533 12520828317 dblp.v12.json\r\n"
     ]
    }
   ],
   "source": [
    "!wc dblp.v12.json"
   ]
  },
  {
   "cell_type": "code",
   "execution_count": 11,
   "metadata": {},
   "outputs": [
    {
     "data": {
      "text/plain": [
       "100000"
      ]
     },
     "execution_count": 11,
     "metadata": {},
     "output_type": "execute_result"
    }
   ],
   "source": [
    "len(df)"
   ]
  },
  {
   "cell_type": "code",
   "execution_count": 19,
   "metadata": {},
   "outputs": [
    {
     "data": {
      "text/plain": [
       "1709"
      ]
     },
     "execution_count": 19,
     "metadata": {},
     "output_type": "execute_result"
    }
   ],
   "source": [
    "df[\"n_citation\"].max()"
   ]
  }
 ],
 "metadata": {
  "kernelspec": {
   "display_name": "Python 3",
   "language": "python",
   "name": "python3"
  },
  "language_info": {
   "codemirror_mode": {
    "name": "ipython",
    "version": 3
   },
   "file_extension": ".py",
   "mimetype": "text/x-python",
   "name": "python",
   "nbconvert_exporter": "python",
   "pygments_lexer": "ipython3",
   "version": "3.8.5"
  }
 },
 "nbformat": 4,
 "nbformat_minor": 4
}
