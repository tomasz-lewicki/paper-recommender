{
 "cells": [
  {
   "cell_type": "code",
   "execution_count": 19,
   "metadata": {},
   "outputs": [],
   "source": [
    "import pandas as pd\n",
    "import numpy as np\n",
    "import json\n",
    "from sklearn import preprocessing\n",
    "from scipy.sparse import coo_matrix"
   ]
  },
  {
   "cell_type": "code",
   "execution_count": 4,
   "metadata": {},
   "outputs": [],
   "source": [
    "users = []\n",
    "items = []\n",
    "\n",
    "with open('dblp.v12.json', 'r') as f:\n",
    "    f.readline() # toss the first line\n",
    "    for idx, line in enumerate(f):\n",
    "        if line[0] == ',':\n",
    "            line = line[1:]\n",
    "            \n",
    "        d = json.loads(line)\n",
    "        paper_id = d[\"id\"]\n",
    "        author_ids = [a[\"id\"] for a in d[\"authors\"]]\n",
    "        reference_ids = d.get(\"references\")\n",
    "        \n",
    "        if reference_ids is None:\n",
    "            continue\n",
    "            \n",
    "        for aid in author_ids:\n",
    "            for rid in reference_ids:\n",
    "                users.append(aid)\n",
    "                items.append(rid)\n",
    "        \n",
    "        # if idx > 1e5: break"
   ]
  },
  {
   "cell_type": "code",
   "execution_count": 5,
   "metadata": {},
   "outputs": [],
   "source": [
    "users_encoder = preprocessing.LabelEncoder()\n",
    "users_encoder.fit(users)\n",
    "users_arr = users_encoder.transform(users)"
   ]
  },
  {
   "cell_type": "code",
   "execution_count": 9,
   "metadata": {},
   "outputs": [],
   "source": [
    "items_encoder = preprocessing.LabelEncoder()\n",
    "items_encoder.fit(items)\n",
    "items_arr = items_encoder.transform(items)"
   ]
  },
  {
   "cell_type": "code",
   "execution_count": 11,
   "metadata": {},
   "outputs": [
    {
     "data": {
      "text/plain": [
       "1565293"
      ]
     },
     "execution_count": 11,
     "metadata": {},
     "output_type": "execute_result"
    }
   ],
   "source": [
    "len(users_arr)"
   ]
  },
  {
   "cell_type": "code",
   "execution_count": 10,
   "metadata": {},
   "outputs": [
    {
     "data": {
      "text/plain": [
       "1565293"
      ]
     },
     "execution_count": 10,
     "metadata": {},
     "output_type": "execute_result"
    }
   ],
   "source": [
    "len(items_arr)"
   ]
  },
  {
   "cell_type": "code",
   "execution_count": 14,
   "metadata": {},
   "outputs": [],
   "source": [
    "row  = items_arr\n",
    "col  = users_arr\n",
    "data = np.ones_like(row)"
   ]
  },
  {
   "cell_type": "code",
   "execution_count": 25,
   "metadata": {},
   "outputs": [],
   "source": [
    "utility = coo_matrix((data, (row, col)), shape=(row.max()+1, col.max()+1), dtype='bool')"
   ]
  },
  {
   "cell_type": "code",
   "execution_count": 37,
   "metadata": {},
   "outputs": [
    {
     "data": {
      "text/plain": [
       "918"
      ]
     },
     "execution_count": 37,
     "metadata": {},
     "output_type": "execute_result"
    }
   ],
   "source": [
    "np.sum(utility, axis=1).max()"
   ]
  }
 ],
 "metadata": {
  "kernelspec": {
   "display_name": "python3.8",
   "language": "python",
   "name": "python3.8"
  },
  "language_info": {
   "codemirror_mode": {
    "name": "ipython",
    "version": 3
   },
   "file_extension": ".py",
   "mimetype": "text/x-python",
   "name": "python",
   "nbconvert_exporter": "python",
   "pygments_lexer": "ipython3",
   "version": "3.8.5"
  }
 },
 "nbformat": 4,
 "nbformat_minor": 4
}
