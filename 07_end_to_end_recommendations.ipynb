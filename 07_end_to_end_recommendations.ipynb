{
 "cells": [
  {
   "cell_type": "code",
   "execution_count": 1,
   "metadata": {},
   "outputs": [],
   "source": [
    "import pickle\n",
    "import sklearn.metrics\n",
    "import numpy as np\n",
    "\n",
    "class CFRecommender:\n",
    "    def __init__(self):\n",
    "        \n",
    "        # Get sparse utility matrix\n",
    "        with open(\"utility_matrix.pkl\", \"rb\") as f:\n",
    "            utility = pickle.load(f)\n",
    "            \n",
    "        # Convert utility matrix for efficient row- and column- lookups\n",
    "        self.U_csc = utility.tocsc()\n",
    "        self.U_csr = utility.tocsr()\n",
    "        \n",
    "        # Get lookup tables\n",
    "        with open(\"id2title.pkl\", \"rb\") as f:\n",
    "            self.id2title = pickle.load(f)\n",
    "\n",
    "        with open(\"id2name.pkl\", \"rb\") as f:\n",
    "            self.id2name = pickle.load(f)\n",
    "\n",
    "        with open(\"name2id.pkl\", \"rb\") as f:\n",
    "            self.name2id = pickle.load(f)\n",
    "\n",
    "        with open(\"title2id.pkl\", \"rb\") as f:\n",
    "            self.title2id = pickle.load(f)\n",
    "        \n",
    "        # Get item encoders and user encoders\n",
    "        # They are used to convert user and item ids into utility matrix entries\n",
    "        with open(\"items_encoder.pkl\", \"rb\") as f:\n",
    "            self.items_encoder = pickle.load(f)\n",
    "\n",
    "        with open(\"users_encoder.pkl\", \"rb\") as f:\n",
    "            self.users_encoder = pickle.load(f)\n",
    "\n",
    "        \n",
    "    def user_based_recommendations(self, user_name=\"Yann LeCun\", user_neighborhood_k=30, n_recommendations=5):\n",
    "    \n",
    "        # find the paper's vector (row in utility matrix)\n",
    "        user_id = self.name2id.get(user_name)\n",
    "        user_idx = self.users_encoder.transform([user_id])\n",
    "        user_vec = self.U_csr.getrow(user_idx)\n",
    "\n",
    "        # calculate similarities with all the other users\n",
    "        sims = sklearn.metrics.pairwise.cosine_similarity(user_vec, self.U_csr)\n",
    "        sims = np.squeeze(sims)\n",
    "\n",
    "        # get users most similar to the queried user\n",
    "        asort = sims.argsort()\n",
    "        k = user_neighborhood_k\n",
    "        k_most_similar_idx = asort[::-1][1:k+1]\n",
    "        k_sims = sims[k_most_similar_idx]\n",
    "\n",
    "        # calculate missing utility matrix entries based on the neighborhood\n",
    "        ratings_k_similar = np.squeeze(np.array([self.U_csr.getrow(r).todense() for r in k_most_similar_idx]))\n",
    "        ratings_k_similar_weighted = (k_sims[:,np.newaxis] * ratings_k_similar)\n",
    "        predicted_ratings = ratings_k_similar_weighted.mean(axis=0)\n",
    "\n",
    "        # get b best recommendations\n",
    "        b = n_recommendations\n",
    "        b_best_items_idx = np.argsort(predicted_ratings)[::-1][:b]\n",
    "        b_best_paper_ids = self.items_encoder.inverse_transform(b_best_items_idx)\n",
    "        \n",
    "        \n",
    "        recommender_paper_titles = [self.id2title[i] for i in b_best_paper_ids]\n",
    "        \n",
    "        return recommender_paper_titles\n",
    "        \n",
    "        \n",
    "    def item_based_recommendations(self, user_name=\"Yann LeCun\", user_item_neighborhood_k=30, n_recommendations=5):\n",
    "    \n",
    "        user_id = self.name2id.get(user_name)\n",
    "        user_idx = self.users_encoder.transform([user_id])\n",
    "        user_vec = self.U_csr.getrow(user_idx)\n",
    "        _, cited_item_idxs = user_vec.nonzero()\n",
    "\n",
    "        pred_rtgs = []\n",
    "        for idx in cited_item_idxs:\n",
    "            curr_item = self.U_csc.getcol(idx).T\n",
    "\n",
    "            # calculate similarities\n",
    "            sims = sklearn.metrics.pairwise.cosine_similarity(curr_item, self.U_csc.T)\n",
    "            sims = np.squeeze(sims) \n",
    "\n",
    "            # get the most similar items\n",
    "            asort = sims.argsort()\n",
    "            asort = asort[::-1] # to descending order\n",
    "\n",
    "            # get the neighborhood\n",
    "            k = item_neighborhood_k\n",
    "            k_most_similar_idx = asort[1:k+1] # the highest-similarity idx will be the user herself, so we skip that\n",
    "            k_sims = sims[k_most_similar_idx]\n",
    "            cols_k_similar = np.squeeze(np.array([self.U_csr.getcol(r).todense() for r in k_most_similar_idx]))\n",
    "            pred_from_one_item = cols_k_similar.mean(axis=0)\n",
    "            pred_rtgs.append(pred_from_one_item)\n",
    "\n",
    "        predicted_ratings = np.array(pred_rtgs).mean(axis=0)\n",
    "\n",
    "        asort = predicted_ratings.argsort()\n",
    "        asort = asort[::-1] # to descending order\n",
    "\n",
    "        b = n_recommendations\n",
    "        b = 5\n",
    "        predicted_idxs = asort[:b]\n",
    "\n",
    "        predicted_paper_ids = self.items_encoder.inverse_transform(predicted_idxs)\n",
    "        recommended_paper_titles = [self.id2title[i] for i in predicted_paper_ids]\n",
    "\n",
    "        return recommended_paper_titles"
   ]
  },
  {
   "cell_type": "code",
   "execution_count": 2,
   "metadata": {},
   "outputs": [],
   "source": [
    "recommender = CFRecommender()"
   ]
  },
  {
   "cell_type": "code",
   "execution_count": 3,
   "metadata": {},
   "outputs": [
    {
     "data": {
      "text/plain": [
       "['A novel graph matching based approach for land-cover classification of multi-temporal images',\n",
       " 'On error models for RTL security evaluations',\n",
       " 'Integrating Security Policies in Federated Database Systems',\n",
       " 'FINITE VOLUME PERSPECTIVES ON FINITE DIFFERENCE SCHEMES AND BOUNDARY FORMULATIONS FOR WAVE SIMULATION',\n",
       " 'Graph-merged detection and decoding of polar-coded MIMO systems']"
      ]
     },
     "execution_count": 3,
     "metadata": {},
     "output_type": "execute_result"
    }
   ],
   "source": [
    "recommender.user_based_recommendations(\"Yann LeCun\", user_neighborhood_k=30, n_recommendations=5)"
   ]
  },
  {
   "cell_type": "code",
   "execution_count": 10,
   "metadata": {},
   "outputs": [
    {
     "data": {
      "text/plain": [
       "['Algebraic attacks on stream ciphers with linear feedback',\n",
       " 'Algebraic Attacks and Decomposition of Boolean Functions',\n",
       " 'Basic Theory in Construction of Boolean Functions with Maximum Possible Annihilator Immunity',\n",
       " 'Algebraic immunity for cryptographically significant Boolean functions: analysis and construction',\n",
       " 'On the algebraic immunity of symmetric boolean functions']"
      ]
     },
     "execution_count": 10,
     "metadata": {},
     "output_type": "execute_result"
    }
   ],
   "source": [
    "recommender.item_based_recommendations(\"Yann LeCun\", item_neighborhood_k=30, n_recommendations=5)"
   ]
  },
  {
   "cell_type": "code",
   "execution_count": 12,
   "metadata": {},
   "outputs": [
    {
     "data": {
      "text/plain": [
       "['Smart-M3 information sharing platform',\n",
       " 'How smart are our environments? An updated look at the state of the art',\n",
       " 'A conceptual framework and a toolkit for supporting the rapid prototyping of context-aware applications',\n",
       " 'Key Properties in the Development of Smart Spaces',\n",
       " 'Mobile application for guiding tourist activities: tourist assistant - TAIS']"
      ]
     },
     "execution_count": 12,
     "metadata": {},
     "output_type": "execute_result"
    }
   ],
   "source": [
    "recommender.item_based_recommendations(\"Andrej Karpathy\", item_neighborhood_k=30, n_recommendations=5)"
   ]
  },
  {
   "cell_type": "code",
   "execution_count": 17,
   "metadata": {},
   "outputs": [
    {
     "data": {
      "text/plain": [
       "['Multimode spatiotemporal background modeling for complex scenes',\n",
       " 'Fast Parallel Connected Components Algorithms on GPUs',\n",
       " 'On the Effect of Previous Technological Experience on the Usability of a Virtual Rehabilitation Tool for the Physical Activation and Cognitive Stimulation of Elders',\n",
       " 'An environment to develop parallel code for solving partial differential equations based-problems',\n",
       " 'Approximating power indices: theoretical and empirical analysis']"
      ]
     },
     "execution_count": 17,
     "metadata": {},
     "output_type": "execute_result"
    }
   ],
   "source": [
    "recommender.user_based_recommendations(\"Kaikai Liu\", user_neighborhood_k=30, n_recommendations=5)"
   ]
  },
  {
   "cell_type": "code",
   "execution_count": 22,
   "metadata": {},
   "outputs": [
    {
     "data": {
      "text/plain": [
       "['Software pipelining: an effective scheduling technique for VLIW machines',\n",
       " 'Some scheduling techniques and an easily schedulable horizontal architecture for high performance scientific computing',\n",
       " 'Trace Scheduling: A Technique for Global Microcode Compaction',\n",
       " 'Trace scheduling: a technique for global microcode compaction',\n",
       " 'Software pipelining']"
      ]
     },
     "execution_count": 22,
     "metadata": {},
     "output_type": "execute_result"
    }
   ],
   "source": [
    "recommender.item_based_recommendations(\"Wojciech Zaremba\", item_neighborhood_k=30, n_recommendations=5)"
   ]
  },
  {
   "cell_type": "code",
   "execution_count": 23,
   "metadata": {},
   "outputs": [
    {
     "data": {
      "text/plain": [
       "['RESOLUTION OF COMPOSITE FUZZY RELATION EQUATIONS',\n",
       " 'Introduction to Fuzzy Sets',\n",
       " 'Toward a theory of fuzzy information granulation and its centrality in human reasoning and fuzzy logic',\n",
       " 'On T -congruence L -relations on groups and rings',\n",
       " 'Flexible neuro-fuzzy systems']"
      ]
     },
     "execution_count": 23,
     "metadata": {},
     "output_type": "execute_result"
    }
   ],
   "source": [
    "recommender.item_based_recommendations(\"Magdalini Eirinaki\", item_neighborhood_k=30, n_recommendations=5)"
   ]
  }
 ],
 "metadata": {
  "kernelspec": {
   "display_name": "Python 3",
   "language": "python",
   "name": "python3"
  },
  "language_info": {
   "codemirror_mode": {
    "name": "ipython",
    "version": 3
   },
   "file_extension": ".py",
   "mimetype": "text/x-python",
   "name": "python",
   "nbconvert_exporter": "python",
   "pygments_lexer": "ipython3",
   "version": "3.8.5"
  }
 },
 "nbformat": 4,
 "nbformat_minor": 4
}
